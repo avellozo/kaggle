{
 "cells": [
  {
   "cell_type": "code",
   "execution_count": null,
   "metadata": {},
   "outputs": [
    {
     "name": "stdout",
     "output_type": "stream",
     "text": [
      "Acurácia: 0.6744791666666666\n",
      "              precision    recall  f1-score   support\n",
      "\n",
      "         0.0       0.68      0.56      0.62      2683\n",
      "         1.0       0.67      0.77      0.72      3077\n",
      "\n",
      "    accuracy                           0.67      5760\n",
      "   macro avg       0.68      0.67      0.67      5760\n",
      "weighted avg       0.68      0.67      0.67      5760\n",
      "\n"
     ]
    }
   ],
   "source": [
    "import pandas as pd\n",
    "from sklearn.model_selection import train_test_split\n",
    "from sklearn.preprocessing import StandardScaler, OneHotEncoder\n",
    "from sklearn.compose import ColumnTransformer\n",
    "from sklearn.pipeline import Pipeline\n",
    "from sklearn.ensemble import RandomForestClassifier\n",
    "from sklearn.metrics import accuracy_score, classification_report\n",
    "from sklearn.impute import SimpleImputer \n",
    "\n",
    "# Carregar os dados (assumindo que os dados estão em um arquivo CSV)\n",
    "data = pd.read_csv('/home/augusto/projects/kaggle/cibmtr/data/equity-post-HCT-survival-predictions/train.csv') \n",
    "\n",
    "# Separar variáveis preditoras (features) e variável alvo (target)\n",
    "X = data.drop(['efs', 'efs_time'], axis=1)  # Features\n",
    "y = data['efs']  # Target\n",
    "\n",
    "# Dividir os dados em conjuntos de treinamento e teste\n",
    "X_train, X_test, y_train, y_test = train_test_split(X, y, test_size=0.2, random_state=42)\n",
    "\n",
    "# Criar pipelines para transformação de dados\n",
    "categorical_cols = X.select_dtypes(include=['object']).columns\n",
    "numerical_cols = X.select_dtypes(include=['float64', 'int64']).columns\n",
    "\n",
    "categorical_transformer = Pipeline(steps=[\n",
    "    ('imputer', SimpleImputer(strategy='most_frequent')),\n",
    "    ('onehot', OneHotEncoder(handle_unknown='ignore'))\n",
    "])\n",
    "\n",
    "numerical_transformer = Pipeline(steps=[\n",
    "    ('imputer', SimpleImputer(strategy='median')),\n",
    "    ('scaler', StandardScaler())\n",
    "])\n",
    "\n",
    "preprocessor = ColumnTransformer(\n",
    "    transformers=[\n",
    "        ('num', numerical_transformer, numerical_cols),\n",
    "        ('cat', categorical_transformer, categorical_cols)\n",
    "    ])\n",
    "\n",
    "# Criar o pipeline do modelo\n",
    "pipeline = Pipeline(steps=[\n",
    "    ('preprocessor', preprocessor),\n",
    "    ('classifier', (random_state=42))\n",
    "])\n",
    "\n",
    "# Treinar o modelo\n",
    "pipeline.fit(X_train, y_train)\n",
    "\n",
    "# Fazer previsões\n",
    "y_pred = pipeline.predict(X_test)\n",
    "\n",
    "# Avaliar o modelo\n",
    "accuracy = accuracy_score(y_test, y_pred)\n",
    "print(f\"Acurácia: {accuracy}\")\n",
    "print(classification_report(y_test, y_pred))\n",
    "\n",
    "# Salvar o modelo (opcional)\n",
    "# import joblib\n",
    "# joblib.dump(pipeline, 'modelo_efs.joblib') \n",
    "\n",
    "# Carregar o modelo (opcional)\n",
    "# loaded_model = joblib.load('modelo_efs.joblib')"
   ]
  },
  {
   "cell_type": "code",
   "execution_count": 4,
   "metadata": {},
   "outputs": [],
   "source": [
    "# Treinar o modelo\n",
    "pipeline.fit(X, y)\n",
    "\n",
    "X_test = pd.read_csv('data/equity-post-HCT-survival-predictions/test.csv')\n",
    "y_pred = pipeline.predict(X_test)\n",
    "\n",
    "# Create the submission: ID, prediction\n",
    "submission = pd.DataFrame({\n",
    "    'ID': X_test.ID, \n",
    "    'prediction': y_pred\n",
    "})\n",
    "\n",
    "submission.to_csv('submission.csv', index = False)"
   ]
  }
 ],
 "metadata": {
  "kernelspec": {
   "display_name": ".venv",
   "language": "python",
   "name": "python3"
  },
  "language_info": {
   "codemirror_mode": {
    "name": "ipython",
    "version": 3
   },
   "file_extension": ".py",
   "mimetype": "text/x-python",
   "name": "python",
   "nbconvert_exporter": "python",
   "pygments_lexer": "ipython3",
   "version": "3.12.3"
  }
 },
 "nbformat": 4,
 "nbformat_minor": 2
}
